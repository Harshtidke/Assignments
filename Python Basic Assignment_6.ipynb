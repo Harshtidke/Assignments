{
 "cells": [
  {
   "cell_type": "markdown",
   "id": "d18419fe",
   "metadata": {},
   "source": [
    "### 1. What are escape characters, and how do you use them?\n",
    "\n",
    "Escape characters are special characters that are used to represent characters that cannot be entered directly into a string. They are specified using a backslash \\ followed by a special character, such as **\\n** for a newline, **\\t** for a tab, or \\' for a single quote.\n",
    "Here are some common examples of using escape characters:\n",
    "```python\n",
    "# Newline character\n",
    "print(\"Hello\\nWorld\")\n",
    "\n",
    "# Tab character\n",
    "print(\"Hello\\tWorld\")\n",
    "\n",
    "# Single quote character\n",
    "print('I\\'m a string')\n",
    "```"
   ]
  },
  {
   "cell_type": "markdown",
   "id": "7d66d7fa",
   "metadata": {},
   "source": [
    "### 2. What do the escape characters n and t stand for?\n",
    "The escape characters **\\n** and **\\t** stand for newline and tab, respectively.\n",
    "**\\n** represents a newline character, which starts a new line in the output. For example:\n",
    "```python\n",
    "print(\"Hello\\nWorld\")\n",
    "```\n",
    "Output: Hello\n",
    "        World\n",
    "**\\t** represents a tab character, which inserts a tab space in the output. For example:\n",
    "```python\n",
    "print(\"Hello\\tWorld\")\n",
    "```\n",
    "Output: Hello  World"
   ]
  },
  {
   "cell_type": "markdown",
   "id": "14a6a09f",
   "metadata": {},
   "source": [
    "### 3. What is the way to include backslash characters in a string?\n",
    "\n",
    "To include a backslash character **\"\\\"** in a string, you need to escape the backslash itself. This is done by using a double backslash **\"\\\\\"** in the string literal.\n",
    "For example:\n",
    "```python\n",
    "print(\"C:\\\\Windows\\\\System32\")\n",
    "```\n",
    "Output: C:\\Windows\\System32"
   ]
  },
  {
   "cell_type": "markdown",
   "id": "5287f5bc",
   "metadata": {},
   "source": [
    "### 4. The string \"Howl's Moving Castle\" is a correct value. Why isn't the single quote character in the word Howl's not escaped a problem?\n",
    "\n",
    "The string **\"Howl's Moving Castle\"** is a valid string because it uses double quotes **\"** to delimit the string, and the single quote character **'** within the string is not being interpreted as the string delimiter.\n",
    "You can use either single quotes **'** or double quotes **\"** to define a string, and the other type can be included within the string without escaping. For example:\n",
    "```python\n",
    "print(\"Howl's Moving Castle\")\n",
    "print('Howl\\'s Moving Castle')\n",
    "```\n",
    "Both of these examples have the same output: **Howl's Moving Castle**"
   ]
  },
  {
   "cell_type": "markdown",
   "id": "49c7fffa",
   "metadata": {},
   "source": [
    "### 5. How do you write a string of newlines if you don't want to use the n character?\n",
    "\n",
    "You can use a multiline string instead of escape character **'\\n'**, a multiline string is defined using triple quotes **( ' ' ' )** or **( \" \" \" )**. For example :\n",
    "```python\n",
    "print('''This is a \n",
    "multiline\n",
    "string.''')\n",
    "Output:\n",
    "    This is a \n",
    "    multiline\n",
    "    string.\n",
    "```"
   ]
  },
  {
   "cell_type": "markdown",
   "id": "34afb4bd",
   "metadata": {},
   "source": [
    "### 6. What are the values of the given expressions?\n",
    "    'Hello, world!'[1]\n",
    "    'Hello, world!'[0:5]\n",
    "    'Hello, world!'[:5]\n",
    "    'Hello, world!'[3:]\n",
    "\n",
    "Output :\n",
    "- 'Hello, world!'[1] = **'e'**\n",
    "- 'Hello, world!'[0:5] = **'Hello'**\n",
    "- 'Hello, world!'[:5] = **'Hello'**\n",
    "- 'Hello, world!'[3:] = **'lo world'**"
   ]
  },
  {
   "cell_type": "markdown",
   "id": "760b9af9",
   "metadata": {},
   "source": [
    "### 7. What are the values of the following expressions?\n",
    "```python\n",
    "'Hello'.upper()\n",
    "'Hello'.upper().isupper()\n",
    "'Hello'.upper().lower()\n",
    "```\n",
    "Output: \n",
    "- **'HELLO'** ( *.upper()* evaluates to a new string converting all characters in the orignal string to uppercase. )\n",
    "- **True** ( *.upper().isupper()* evaluates to a boolean value that indicates whether the result of converting the string to uppercase is an uppercase string. )\n",
    "- **'hello'** ( *.upper().lower()* evaluates to a new string that is the result of converting all characters in the uppercase string to lowercase. )"
   ]
  },
  {
   "cell_type": "markdown",
   "id": "85cfdfc1",
   "metadata": {},
   "source": [
    "### 8. What are the values of the following expressions?\n",
    "```python\n",
    "'Remember, remember, the fifth of July.'.split()\n",
    "'-'.join('There can only one.'.split())\n",
    "```\n",
    "Output:\n",
    "- ['Remember,', 'remember,', 'the', 'fifth', 'of', 'July.']\n",
    "- 'There-can-only-one.'"
   ]
  },
  {
   "cell_type": "markdown",
   "id": "3269753f",
   "metadata": {},
   "source": [
    "### 9. What are the methods for right-justifying, left-justifying, and centering a string?\n",
    "\n",
    "You can right-justify, left-justify, and center a string using the ***rjust(), ljust(), and center()*** methods respectively. These methods take two arguments: the width of the final string and the character to use for padding (the default is a space). For example:\n",
    "```python\n",
    "string = \"hello\"\n",
    "\n",
    "# Right-justifying a string\n",
    "right_justified = string.rjust(10)\n",
    "\n",
    "# Left-justifying a string\n",
    "left_justified = string.ljust(10)\n",
    "\n",
    "# Centering a string\n",
    "centered = string.center(10)\n",
    "\n",
    "print(right_justified) \n",
    "print(left_justified) \n",
    "print(centered) \n",
    "\n",
    "Output:\n",
    "\"     hello\"\n",
    "\"hello     \"\n",
    "\"   hello   \"\n",
    "```"
   ]
  },
  {
   "cell_type": "markdown",
   "id": "be51b381",
   "metadata": {},
   "source": [
    "### 10. What is the best way to remove whitespace characters from the start or end?\n",
    "\n",
    "The best way to remove whitespace characters is using the **strip( )** method. And to remove whitespace characters from start or end of the string **lstrip( )** and **rstrip( )** are used respectively. For example:\n",
    "```python\n",
    "string = \"   Hello, world!  \"\n",
    "\n",
    "# Removing whitespace characters from the start and end\n",
    "stripped = string.strip()\n",
    "\n",
    "# Removing whitespace characters from the start\n",
    "left_stripped = string.lstrip()\n",
    "\n",
    "# Removing whitespace characters from the end\n",
    "right_stripped = string.rstrip()\n",
    "\n",
    "print(stripped) \n",
    "print(left_stripped) \n",
    "print(right_stripped) \n",
    "Output:\n",
    "    \"Hello, world!\"\n",
    "    \"Hello, world!   \"\n",
    "    \"   Hello, world!\"\n",
    "```"
   ]
  }
 ],
 "metadata": {
  "kernelspec": {
   "display_name": "Python 3 (ipykernel)",
   "language": "python",
   "name": "python3"
  },
  "language_info": {
   "codemirror_mode": {
    "name": "ipython",
    "version": 3
   },
   "file_extension": ".py",
   "mimetype": "text/x-python",
   "name": "python",
   "nbconvert_exporter": "python",
   "pygments_lexer": "ipython3",
   "version": "3.9.13"
  }
 },
 "nbformat": 4,
 "nbformat_minor": 5
}
