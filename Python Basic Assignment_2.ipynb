{
 "cells": [
  {
   "cell_type": "markdown",
   "id": "270f12c4",
   "metadata": {},
   "source": [
    "### 1.What are the two values of the Boolean data type? How do you write them?\n",
    "\n",
    "There are only two bollean data types **True and False**."
   ]
  },
  {
   "cell_type": "markdown",
   "id": "8ae50032",
   "metadata": {},
   "source": [
    "### 2. What are the three different types of Boolean operators?\n",
    "The three types of boolean operators are : **AND, OR and NOT**."
   ]
  },
  {
   "cell_type": "markdown",
   "id": "b841b41d",
   "metadata": {},
   "source": [
    "### 3. Make a list of each Boolean operator's truth tables (i.e. every possible combination of Boolean values for the operator and what it evaluate ).\n",
    "\n",
    "1. AND (and)\n",
    "   - True and True = True\n",
    "   - True and False = False\n",
    "   - False and True = False\n",
    "   - False and False = False\n",
    "    \n",
    "\n",
    "2. OR (or)\n",
    "   - True or True = True\n",
    "   - True or False = True\n",
    "   - False or True = True\n",
    "   - False or False = False\n",
    "\n",
    "\n",
    "3. NOT (not)\n",
    "   - not True = False\n",
    "   - not False = True   "
   ]
  },
  {
   "cell_type": "markdown",
   "id": "69f2c83e",
   "metadata": {},
   "source": [
    "### 4. What are the values of the following expressions?\n",
    "\n",
    "1. (5 > 4) and (3 == 5)\n",
    "2. not (5 > 4)\n",
    "3. (5 > 4) or (3 == 5)\n",
    "4. not ((5 > 4) or (3 == 5))\n",
    "5. (True and True) and (True == False)\n",
    "6. (not False) or (not True)\n",
    "\n",
    "```python\n",
    "print({\"(5>4)and(3==5)\": (5>4)and(3==5),\n",
    "       \"not(5>4)\": not(5>4),\n",
    "       \"(5>4)or(3==5)\": (5>4)or(3==5),\n",
    "       \"not((5 > 4) or (3 == 5))\": not((5 > 4) or (3 == 5)),\n",
    "       \"(True and True) and (True == False)\": (True and True) and (True == False),\n",
    "       \"(not False) or (not True)\": (not False) or (not True)\n",
    "      })\n",
    "```"
   ]
  },
  {
   "cell_type": "markdown",
   "id": "2569e6a3",
   "metadata": {},
   "source": [
    "### 5. What are the six comparison operators?\n",
    "\n",
    "The six comparison operators are:\n",
    " - '==' (equal to)\n",
    " - '!=' (not equal to)\n",
    " - '>' (greater than)\n",
    " - '<' (less than)\n",
    " - '>=' (greater than or equal to)\n",
    " - '<=' (less than or equal to)"
   ]
  },
  {
   "cell_type": "markdown",
   "id": "b819c1c9",
   "metadata": {},
   "source": [
    "### 6. How do you tell the difference between the equal to and assignment operators?Describe a condition and when you would use one.\n",
    "\n",
    "The equal to operator '==' is used to compare two values and check if they are equal, while the assignment operator '=' is used to assign a value to a variable.\n",
    "For example, \n",
    "\n",
    "Comparison operator:\n",
    "```python\n",
    "if x == 5:\n",
    "    print(\"x is equal to 5\")\n",
    "```\n",
    "\n",
    "Assignment operator:\n",
    "```python\n",
    "x=3\n",
    "x=5\n",
    "print(x)\n",
    "```"
   ]
  },
  {
   "cell_type": "markdown",
   "id": "778318b9",
   "metadata": {},
   "source": [
    "### 7. Identify the three blocks in this code:\n",
    "\n",
    "```python\n",
    "#1st block\n",
    "spam=0\n",
    "if spam==10:\n",
    "    print('eggs')\n",
    "\n",
    "#2nd block\n",
    "if spam > 5:\n",
    "    print('bacon')\n",
    "\n",
    "#3rd block\n",
    "else:\n",
    "    print('ham')\n",
    "    print('spam')\n",
    "    print('spam')\n",
    "```"
   ]
  },
  {
   "cell_type": "markdown",
   "id": "16d27e6a",
   "metadata": {},
   "source": [
    "### 8. Write code that prints Hello if 1 is stored in spam, prints Howdy if 2 is stored in spam, and prints Greetings! if anything else is stored in spam.\n",
    "\n",
    "```python\n",
    "spam = 2\n",
    "\n",
    "if spam == 1:\n",
    "    print(\"Hello\")\n",
    "elif spam == 2:\n",
    "    print(\"Howdy\")\n",
    "else:\n",
    "    print(\"Greetings!\")\n",
    "```"
   ]
  },
  {
   "cell_type": "markdown",
   "id": "d825f37d",
   "metadata": {},
   "source": [
    "### 9. If your programme is stuck in an endless loop, what keys you’ll press?\n",
    "\n",
    "In environments like Jupyter notebook or VS code, we can use the \"Kernel\" menu at the top of the screen to interrupt the kernel."
   ]
  },
  {
   "cell_type": "markdown",
   "id": "41992f7a",
   "metadata": {},
   "source": [
    "### 10. How can you tell the difference between break and continue?\n",
    "\n",
    "The main difference between break and continue is that **break** exits the loop entirely, while **continue** skips the current iteration and continues with the next iteration.\n",
    "\n",
    "Break example:\n",
    "```python\n",
    "for i in range(10):\n",
    "    if i == 5:\n",
    "        break\n",
    "    print(i)\n",
    "```\n",
    "\n",
    "Continue example:\n",
    "```python\n",
    "for i in range(10):\n",
    "    if i % 2 == 0:\n",
    "        continue\n",
    "    print(i)\n",
    "```"
   ]
  },
  {
   "cell_type": "markdown",
   "id": "f41937d7",
   "metadata": {},
   "source": [
    "### 11. In a for loop, what is the difference between range(10), range(0, 10), and range(0, 10, 1)?\n",
    "\n",
    "In 'for' loop the 'range()' function is used to generate a sequence of numbers which also can be used to iterate over those numbers.\n",
    "- range(10) will generate a sequence from 0(inclusive) to 10(exclusive):0,1,2,3,4,5,6,7,8,9.\n",
    "- range(0,10) will generate the same sequence of number where 0 is defaulting and 10 will be the end of range.\n",
    "- range(0,10,1) will also generate the same sequence because is starts at 0, ends at 10, and increment by 1 for each iteration."
   ]
  },
  {
   "cell_type": "markdown",
   "id": "6be3b034",
   "metadata": {},
   "source": [
    "### 12. Write a short program that prints the numbers 1 to 10 using a for loop. Then write an equivalent program that prints the numbers 1 to 10 using a while loop.\n",
    "\n",
    "For loop:\n",
    "```python\n",
    "for i in range(1,11):\n",
    "    print(i)\n",
    "```\n",
    "\n",
    "While loop:\n",
    "```python\n",
    "i = 1\n",
    "while i <=10:\n",
    "    print(i)\n",
    "    i += 1\n",
    "```    "
   ]
  },
  {
   "cell_type": "markdown",
   "id": "81e12355",
   "metadata": {},
   "source": [
    "### 13. If you had a function named bacon() inside a module named spam, how would you call it after importing spam?\n",
    "\n",
    "There are many ways to import a function from a module some are:\n",
    "1. \n",
    "```python\n",
    "import spam \n",
    "spam.bacon()\n",
    "```\n",
    "\n",
    "2. \n",
    "```python\n",
    "from spam import bacon\n",
    "bacon()\n",
    "```\n",
    "\n",
    "3. \n",
    "```python\n",
    "from spam import bacon as b\n",
    "b()\n",
    "```"
   ]
  }
 ],
 "metadata": {
  "kernelspec": {
   "display_name": "Python 3 (ipykernel)",
   "language": "python",
   "name": "python3"
  },
  "language_info": {
   "codemirror_mode": {
    "name": "ipython",
    "version": 3
   },
   "file_extension": ".py",
   "mimetype": "text/x-python",
   "name": "python",
   "nbconvert_exporter": "python",
   "pygments_lexer": "ipython3",
   "version": "3.9.13"
  }
 },
 "nbformat": 4,
 "nbformat_minor": 5
}
