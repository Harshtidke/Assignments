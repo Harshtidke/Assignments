{
 "cells": [
  {
   "cell_type": "markdown",
   "id": "bdef7b73",
   "metadata": {},
   "source": [
    "### 1. Why are functions advantageous to have in your programs?\n",
    "\n",
    "Functions are advantageous to have in your programs because they allow for code reuse and organization. By encapsulating a specific behavior or action within a function, you can easily call that function multiple times throughout your code, rather than having to duplicate the same code in multiple places."
   ]
  },
  {
   "cell_type": "markdown",
   "id": "bdcfd88c",
   "metadata": {},
   "source": [
    "### 2. When does the code in a function run: when it's specified or when it's called?\n",
    "\n",
    "The code in a function runs when the function is called."
   ]
  },
  {
   "cell_type": "markdown",
   "id": "c1a083c6",
   "metadata": {},
   "source": [
    "### 3. What statement creates a function?\n",
    "\n",
    "The 'def' keyword is used to create a funtion.\n",
    "The basic syntax for defining a fuction is:\n",
    "```python\n",
    "def my_function(x,y):\n",
    "    print x+y\n",
    "```"
   ]
  },
  {
   "cell_type": "markdown",
   "id": "2e3a9a41",
   "metadata": {},
   "source": [
    "### 4. What is the difference between a function and a function call?\n",
    "\n",
    "A function is a block of code that is defined and given a name, whereas a function call is the act of invoking or executing that block of code by using the function's name."
   ]
  },
  {
   "cell_type": "markdown",
   "id": "ea2e301e",
   "metadata": {},
   "source": [
    "### 5. How many global scopes are there in a Python program? How many local scopes?\n",
    "\n",
    "- In a Python program, there is only one global scope. The global scope is the top-level scope in the program, and it contains all the variables that are defined outside of any function or class definition.\n",
    "- The number of local scopes in a Python program depends on the number of function or class definitions in the program. Each function or class definition creates its own local scope. A local scope contains variables that are defined within that function or class definition, and it is only accessible from within that function or class definition."
   ]
  },
  {
   "cell_type": "markdown",
   "id": "9cd8c31a",
   "metadata": {},
   "source": [
    "### 6. What happens to variables in a local scope when the function call returns?\n",
    "\n",
    "When a function call returns, the local scope that was created for that function call is discarded, and any variables that were defined within that local scope are no longer accessible. This process is known as scope exit."
   ]
  },
  {
   "cell_type": "markdown",
   "id": "f570587b",
   "metadata": {},
   "source": [
    "### 7. What is the concept of a return value? Is it possible to have a return value in an expression?\n",
    "\n",
    "- A return value is the value that is returned by a function when it is called. It is specified by the return statement. The return statement is used to exit a function and return a value to the caller. The value that is returned can be of any data type, including numbers, strings, lists, etc.\n",
    "- Yes, it is possible to have a return value in an expression. This means that you can use a function call as part of a larger expression and the value that is returned by the function will be used as part of that larger expression."
   ]
  },
  {
   "cell_type": "markdown",
   "id": "6ae69d87",
   "metadata": {},
   "source": [
    "### 8. If a function does not have a return statement, what is the return value of a call to that function?\n",
    "\n",
    "If a function does not have a return statement, the fuction call will return '**None**'."
   ]
  },
  {
   "cell_type": "markdown",
   "id": "99f30e6e",
   "metadata": {},
   "source": [
    "### 9. How do you make a function variable refer to the global variable?\n",
    "\n",
    "You can make a function variable refer to a global variable by using the '**global**' keyword before the variable name inside the function.\n",
    "For example:\n",
    "```python\n",
    "x = 5 \n",
    "\n",
    "def my_function():\n",
    "    global x\n",
    "    x = x+1\n",
    "    print(x)\n",
    "    \n",
    "my_function()\n",
    "print(x)\n",
    "```"
   ]
  },
  {
   "cell_type": "markdown",
   "id": "82bc436a",
   "metadata": {},
   "source": [
    "### 10. What is the data type of None?\n",
    "\n",
    "None has a special built-in data type called '**NoneType**'. "
   ]
  },
  {
   "cell_type": "markdown",
   "id": "a310e5a0",
   "metadata": {},
   "source": [
    "### 11. What does the sentence import areallyourpetsnamederic do?\n",
    "\n",
    "The sentence '**import areallyourpetsnamederic**' attempts to import a module or package with the name \"areallyourpetsnamederic\". If there is no such module or package, the interpreter will raise an ImportError with a message that the specified module or package could not be found."
   ]
  },
  {
   "cell_type": "markdown",
   "id": "dfada530",
   "metadata": {},
   "source": [
    "### 12. If you had a bacon() feature in a spam module, what would you call it after importing spam?\n",
    "\n",
    "You can call the bacon() feature after importing the spam module using  the syntax '**spam.bacon()**'.\n",
    "\n",
    "For example:\n",
    "```python\n",
    "import spam\n",
    "spam.bacon()\n",
    "```\n",
    "OR \n",
    "```python\n",
    "from spam import bacon\n",
    "bacon()\n",
    "```"
   ]
  },
  {
   "cell_type": "markdown",
   "id": "bf865006",
   "metadata": {},
   "source": [
    "### 13. What can you do to save a programme from crashing if it encounters an error?\n",
    "\n",
    "There are several ways to handle errors and prevent a program from crashing most common is using exception handling. Using a try-except block to catch specific errors and handle them gracefully, rather than letting the program crash."
   ]
  },
  {
   "cell_type": "markdown",
   "id": "30a95686",
   "metadata": {},
   "source": [
    "### 14. What is the purpose of the try clause? What is the purpose of the except clause?\n",
    "\n",
    "- The '**try**' clause is used to enclose a block of code that may raise an exception. If an exception is raised within the '**try**' block, the code in the corresponding '**except**' clause will be executed.\n",
    "- The '**except**' clause is used to handle exceptions that are raised within the '**try**' block. The '**except**' clause specifies the type of exception that it will handle, and the code within the '**except**' block will be executed if an exception of that type is raised."
   ]
  }
 ],
 "metadata": {
  "kernelspec": {
   "display_name": "Python 3 (ipykernel)",
   "language": "python",
   "name": "python3"
  },
  "language_info": {
   "codemirror_mode": {
    "name": "ipython",
    "version": 3
   },
   "file_extension": ".py",
   "mimetype": "text/x-python",
   "name": "python",
   "nbconvert_exporter": "python",
   "pygments_lexer": "ipython3",
   "version": "3.9.13"
  }
 },
 "nbformat": 4,
 "nbformat_minor": 5
}
