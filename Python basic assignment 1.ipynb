{
 "cells": [
  {
   "cell_type": "markdown",
   "id": "ca5abb7f",
   "metadata": {},
   "source": [
    "#### 1. In the below elements which of them are values or an expression? eg:- values can be integer or string and expressions will be mathematical operators.\n",
    "1. ' * ' is a expression(multiplication)\n",
    "2. 'hello' is a string\n",
    "3. -87.8 is an integer\n",
    "4. '-' is a expression(subtraction)\n",
    "5. / is a expression(division)\n",
    "6. '+' is a expression(addition)\n",
    "7. 6 is a integer "
   ]
  },
  {
   "cell_type": "markdown",
   "id": "b67f3116",
   "metadata": {},
   "source": [
    "#### 2. What is the difference between string and variable?\n",
    "Variables are symbols that you can use to store data in a program and Strings are data, so we can use them to fill up a variable."
   ]
  },
  {
   "cell_type": "markdown",
   "id": "1ebc964f",
   "metadata": {},
   "source": [
    "#### 3. Describe three different data types.\n",
    "1. Strings - strings are denoted by \"\" and are immutabale eg. \"Hello\", \"23.34\". \n",
    "2. Integers - Integers are numerical values which are whole numbers and are immutable. eg. 5234 , 459.\n",
    "3. Lists - Lists are collection of data which are set between [ ] and are mutable. eg.[1,2,3] , [4,5,7,8]."
   ]
  },
  {
   "cell_type": "markdown",
   "id": "6fe05c6a",
   "metadata": {},
   "source": [
    "#### 4. What is an expression made up of? What do all expressions do?\n",
    "An expression is a combination of operators and operands that is interpreted to produce some other value, expressions are representations of value"
   ]
  },
  {
   "cell_type": "markdown",
   "id": "512f9f0f",
   "metadata": {},
   "source": [
    "#### 5. This assignment statements, like spam = 10. What is the difference between an expression and a statement?\n",
    "A statement is not evaluated for some results. An expression is evaluated for some results. The execution of a statement changes the state of the variable while the expression evaluation does not result in any state change."
   ]
  },
  {
   "cell_type": "markdown",
   "id": "2d6e4ed8",
   "metadata": {},
   "source": [
    "#### 6. After running the following code, what does the variable bacon contain?\n",
    "```python\n",
    "bacon = 22\n",
    "bacon + 1\n",
    "```\n",
    "result=\n",
    "bacon = 23"
   ]
  },
  {
   "cell_type": "markdown",
   "id": "31037325",
   "metadata": {},
   "source": [
    "#### 7. What should the values of the following two terms be?\n",
    "```python\n",
    "'spam'+'spamspam'\n",
    "'spam' * 3\n",
    "```\n",
    "results=\n",
    "'spamspamspam'"
   ]
  },
  {
   "cell_type": "markdown",
   "id": "660c093e",
   "metadata": {},
   "source": [
    "#### 8. Why is eggs a valid variable name while 100 is invalid?\n",
    "Because in python variable names cannot begin with number."
   ]
  },
  {
   "cell_type": "markdown",
   "id": "50c43d3e",
   "metadata": {},
   "source": [
    "#### 9. What three functions can be used to get the integer, floating-point number, or string version of a value?\n",
    "Integer — int()\n",
    "\n",
    "Floating-point —float()\n",
    "\n",
    "String — str()"
   ]
  },
  {
   "cell_type": "markdown",
   "id": "819c0c44",
   "metadata": {},
   "source": [
    "#### 10. Why does this expression cause an error? How can you fix it? 'I have eaten' + 99 + 'burritos.'\n",
    "An error is caused because 99 is a integer and only strings can be concatenated to other strings with the + operator\n",
    "\n",
    "The correct way is \n",
    "```python\n",
    "'I have eaten' + str(99) + 'burritos.'\n",
    "```"
   ]
  }
 ],
 "metadata": {
  "kernelspec": {
   "display_name": "Python 3 (ipykernel)",
   "language": "python",
   "name": "python3"
  },
  "language_info": {
   "codemirror_mode": {
    "name": "ipython",
    "version": 3
   },
   "file_extension": ".py",
   "mimetype": "text/x-python",
   "name": "python",
   "nbconvert_exporter": "python",
   "pygments_lexer": "ipython3",
   "version": "3.9.7"
  }
 },
 "nbformat": 4,
 "nbformat_minor": 5
}
