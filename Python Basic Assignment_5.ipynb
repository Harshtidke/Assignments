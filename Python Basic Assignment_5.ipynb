{
 "cells": [
  {
   "cell_type": "markdown",
   "id": "58c00131",
   "metadata": {},
   "source": [
    "### 1. What does an empty dictionary's code look like?\n",
    "\n",
    "An empty dictionary's code looks like this '{ }'."
   ]
  },
  {
   "cell_type": "markdown",
   "id": "91d38a3a",
   "metadata": {},
   "source": [
    "### 2. What is the value of a dictionary value with the key 'foo' and the value 42?\n",
    "\n",
    "The value of a dictionary with key 'foo' and value 42 would look like this: {'foo': 42}"
   ]
  },
  {
   "cell_type": "markdown",
   "id": "1ec3aab2",
   "metadata": {},
   "source": [
    "### 3. What is the most significant distinction between a dictionary and a list?\n",
    "\n",
    "The most significant distinction between a dictionary and a list is that a dictionary is an unordered collection of key-value pairs, while a list is an ordered collection of values. In a dictionary, each value is associated with a key, allowing for efficient value lookups by key. In a list, values are accessed by their index."
   ]
  },
  {
   "cell_type": "markdown",
   "id": "d9d3453a",
   "metadata": {},
   "source": [
    "### 4. What happens if you try to access spam['foo'] if spam is {'bar': 100}?\n",
    "\n",
    "If you try to access the value for key **'foo'** in the dictionary **{'bar': 100}**, you will get a *KeyError* because the key **'foo'** does not exist in the dictionary."
   ]
  },
  {
   "cell_type": "markdown",
   "id": "62f3c30b",
   "metadata": {},
   "source": [
    "### 5. If a dictionary is stored in spam, what is the difference between the expressions 'cat' in spam and 'cat' in spam.keys()?\n",
    "\n",
    "The difference between the expressions **'cat' in spam** and **'cat' in spam.keys()** is that the first expression returns a boolean indicating whether the value *'cat'* exists as a key in the dictionary *spam*, while the second expression returns a boolean indicating whether the key *'cat'* exists in the dictionary."
   ]
  },
  {
   "cell_type": "markdown",
   "id": "c1972e00",
   "metadata": {},
   "source": [
    "### 6. If a dictionary is stored in spam, what is the difference between the expressions 'cat' in spam and 'cat' in spam.values()?\n",
    "\n",
    "The difference between the expressions **'cat' in spam** and **'cat' in spam.values()** is that the first expression returns a boolean indicating whether the value **'cat'** exists as a key in the dictionary **spam**, while the second expression returns a boolean indicating whether the value **'cat'** exists in the list of values of the dictionary."
   ]
  },
  {
   "cell_type": "markdown",
   "id": "56a90214",
   "metadata": {},
   "source": [
    "### 7. What is a shortcut for the following code? \n",
    "```python\n",
    "if 'color' not in spam:\n",
    "spam['color'] = 'black'\n",
    "```\n",
    "Shortcut =\n",
    "```python\n",
    "spam['color'] = spam.get('color','black')\n",
    "```"
   ]
  },
  {
   "cell_type": "markdown",
   "id": "a14a4fd3",
   "metadata": {},
   "source": [
    "### 8. How do you \"pretty print\" dictionary values using which module and function?\n",
    "\n",
    "To \"pretty print\" dictionary values, you can use the pprint module and its pprint function. For example:\n",
    "```python\n",
    "import pprint\n",
    "# Define a dictionary\n",
    "spam={'foo':42,'bar':100}\n",
    "# Use the pprint function from the pprint module to print the dictionary values\n",
    "pprint.pprint(spam)\n",
    "```"
   ]
  }
 ],
 "metadata": {
  "kernelspec": {
   "display_name": "Python 3 (ipykernel)",
   "language": "python",
   "name": "python3"
  },
  "language_info": {
   "codemirror_mode": {
    "name": "ipython",
    "version": 3
   },
   "file_extension": ".py",
   "mimetype": "text/x-python",
   "name": "python",
   "nbconvert_exporter": "python",
   "pygments_lexer": "ipython3",
   "version": "3.9.13"
  }
 },
 "nbformat": 4,
 "nbformat_minor": 5
}
