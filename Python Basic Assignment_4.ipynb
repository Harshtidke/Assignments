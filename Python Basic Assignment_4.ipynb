{
 "cells": [
  {
   "cell_type": "markdown",
   "id": "760583fd",
   "metadata": {},
   "source": [
    "### 1. What exactly is [ ]?\n",
    "\n",
    "Square brackets [ ] are used to define a list. A list is a collection of items, which can be of any type (e.g. integers, strings, etc.)."
   ]
  },
  {
   "cell_type": "markdown",
   "id": "60c44961",
   "metadata": {},
   "source": [
    "### 2. In a list of values stored in a variable called spam, how would you assign the value 'hello' as the third value? (Assume [2, 4, 6, 8, 10] are in spam.)\n",
    "\n",
    "To assign the value 'hello' as the third value in a list called spam, you can use the following code:\n",
    "```python\n",
    "spam=[2,4,6,8,10]\n",
    "spam[2]='hello'\n",
    "print(spam)\n",
    "```"
   ]
  },
  {
   "cell_type": "markdown",
   "id": "2ea8eeb2",
   "metadata": {},
   "source": [
    "###  3. What is the value of spam[int(int('3' * 2) / 11)]?\n",
    "```python\n",
    "spam=['a','b','c','d']\n",
    "spam[int(int('3'*2)/11)]\n",
    "```\n",
    "output: 'd'"
   ]
  },
  {
   "cell_type": "markdown",
   "id": "e12ade3e",
   "metadata": {},
   "source": [
    "### 4. What is the value of spam[-1]?\n",
    "```python\n",
    "spam=['a','b','c','d']\n",
    "spam[-1]\n",
    "```\n",
    "Output: 'd'"
   ]
  },
  {
   "cell_type": "markdown",
   "id": "91872ace",
   "metadata": {},
   "source": [
    "### 5. What is the value of spam[:2]?\n",
    "```python\n",
    "spam=['a','b','c','d']\n",
    "spam[:2]\n",
    "```\n",
    "Output: ['a', 'b']"
   ]
  },
  {
   "cell_type": "markdown",
   "id": "9db66faf",
   "metadata": {},
   "source": [
    "### 6. What is the value of bacon.index('cat')?\n",
    "```python\n",
    "bacon=[3.14,'cat',11,'cat',True]\n",
    "bacon.index('cat')\n",
    "```\n",
    "Output: 1"
   ]
  },
  {
   "cell_type": "markdown",
   "id": "6d9edaa7",
   "metadata": {},
   "source": [
    "### 7. How does bacon.append(99) change the look of the list value in bacon?\n",
    "```python\n",
    "bacon=[3.14,'cat',11,'cat',True]\n",
    "bacon.append(99)\n",
    "```\n",
    "Output: [3.14, 'cat', 11, 'cat', True, 99]"
   ]
  },
  {
   "cell_type": "markdown",
   "id": "c9ee28de",
   "metadata": {},
   "source": [
    "### 8. How does bacon.remove('cat') change the look of the list in bacon?\n",
    "```python\n",
    "bacon=[3.14,'cat',11,'cat',True]\n",
    "bacon.remove('cat')\n",
    "```\n",
    "Output: [3.14, 11, 'cat', True, 99]"
   ]
  },
  {
   "cell_type": "markdown",
   "id": "b9d8de7d",
   "metadata": {},
   "source": [
    "### 9. What are the list concatenation and list replication operators?\n",
    "\n",
    "The list concatenation operator is **+**, which allows you to join two lists together. The list replication operator is *, which allows you to create a new list by repeating an existing list a certain number of times."
   ]
  },
  {
   "cell_type": "markdown",
   "id": "43ac63f8",
   "metadata": {},
   "source": [
    "### 10. What is difference between the list methods append() and insert()?\n",
    "\n",
    "The list method **append()** adds an item to the end of a list. The list method **insert()** allows you to add an item to a specific position in the list."
   ]
  },
  {
   "cell_type": "markdown",
   "id": "7db5992a",
   "metadata": {},
   "source": [
    "### 11. What are the two methods for removing items from a list?\n",
    "\n",
    "The two methods for removing items from a list are **remove()** and **pop()**. The *remove()* method removes the first occurrence of a specified value, while the *pop()* method removes the item at a specified index."
   ]
  },
  {
   "cell_type": "markdown",
   "id": "ebd11fdf",
   "metadata": {},
   "source": [
    "### 12. Describe how list values and string values are identical.\n",
    "\n",
    "List values and string values are similar in that they both can contain multiple values and are ordered by index."
   ]
  },
  {
   "cell_type": "markdown",
   "id": "4e53cc3a",
   "metadata": {},
   "source": [
    "### 13. What's the difference between tuples and lists?\n",
    "\n",
    "Lists are mutable, meaning you can change the values they contain after they are defined, while tuples are immutable, meaning you cannot change the values they contain after they are defined."
   ]
  },
  {
   "cell_type": "markdown",
   "id": "8e33223c",
   "metadata": {},
   "source": [
    "### 14. How do you type a tuple value that only contains the integer 42?\n",
    "\n",
    "We can type a tuple value that only contains the integer 42 by using code:\n",
    "```python\n",
    "tuple_sample(42,)\n",
    "```\n",
    "I used **,** after 42 even its the only element in the tuple, otherwise python will consider it as an integer not a tuple."
   ]
  },
  {
   "cell_type": "markdown",
   "id": "989e5444",
   "metadata": {},
   "source": [
    "### 15. How do you get a list value's tuple form? How do you get a tuple value's list form?\n",
    "\n",
    "You can get a list value's tuple form by using the tuple() function, like this: tuple(listValue). You can get a tuple value's list form by using the list() function, like this: list(tupleValue)\n",
    "\n",
    "List value's tuple form\n",
    "```python\n",
    "list_value = [1, 2, 3]\n",
    "tuple_form = tuple(list_value)\n",
    "print(tuple_form)\n",
    "```\n",
    "Tuple value's list form\n",
    "```python\n",
    "tuple_value = (1, 2, 3)\n",
    "list_form = list(tuple_value)\n",
    "print(list_form)\n",
    "```"
   ]
  },
  {
   "cell_type": "markdown",
   "id": "d062ebae",
   "metadata": {},
   "source": [
    "### 16. Variables that \"contain\" list values are not necessarily lists themselves. Instead, what do they contain?\n",
    "\n",
    "Variables that \"contain\" list values are actually references to the list objects themselves. They do not contain the values of the list, but instead contain a memory address that points to the location in memory where the list is stored. This is known as a pointer.\n",
    "\n",
    "For example:\n",
    "```python\n",
    "original_list = [1, 2, 3]\n",
    "new_reference = original_list\n",
    "new_reference.append(4)\n",
    "print(original_list) # [1, 2, 3, 4]\n",
    "```"
   ]
  },
  {
   "cell_type": "markdown",
   "id": "b51e2764",
   "metadata": {},
   "source": [
    "### 17. How do you distinguish between copy.copy() and copy.deepcopy()?\n",
    "\n",
    "- copy.copy() creates a shallow copy of an object, which means that if the object contains references to other objects, the copy will still contain references to the same objects. \n",
    "- copy.deepcopy() creates a deep copy of an object, which means that if the object contains references to other objects, the copy will contain new copies of those objects, rather than references to the original objects."
   ]
  },
  {
   "cell_type": "code",
   "execution_count": null,
   "id": "ceca4561",
   "metadata": {},
   "outputs": [],
   "source": []
  }
 ],
 "metadata": {
  "kernelspec": {
   "display_name": "Python 3 (ipykernel)",
   "language": "python",
   "name": "python3"
  },
  "language_info": {
   "codemirror_mode": {
    "name": "ipython",
    "version": 3
   },
   "file_extension": ".py",
   "mimetype": "text/x-python",
   "name": "python",
   "nbconvert_exporter": "python",
   "pygments_lexer": "ipython3",
   "version": "3.9.13"
  }
 },
 "nbformat": 4,
 "nbformat_minor": 5
}
